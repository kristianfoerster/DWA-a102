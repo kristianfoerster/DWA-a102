{
 "cells": [
  {
   "cell_type": "markdown",
   "id": "2e0b1ba9",
   "metadata": {},
   "source": [
    "# Ein einfaches Anwendungsbeispiel\n",
    "Dieses Jupyter-Notebook beschreibt in Kürze die Anwendung der Programmbibliothek DWA-a102, welche auf dem Merkblatt M102 Teil 4 aufbaut. Zunächst werden die relevanten Importe aufgerufen:"
   ]
  },
  {
   "cell_type": "code",
   "execution_count": 2,
   "id": "6e06b4e0",
   "metadata": {},
   "outputs": [],
   "source": [
    "# Imports\n",
    "# import dwa-a102 libraries\n",
    "from dwa_a102 import StudyArea as StudyArea\n",
    "from dwa_a102 import watbal as watbal"
   ]
  },
  {
   "cell_type": "markdown",
   "id": "942ea3d8",
   "metadata": {},
   "source": [
    "Dann legen wir ein Untersuchungsgebiet an und ergänzen Flächen (eine größere versiegelte Flächen und Dachflächen). Die Wasserbilanz wird für beide Flächen zusammengefasst):"
   ]
  },
  {
   "cell_type": "code",
   "execution_count": 10,
   "id": "47ff02ff",
   "metadata": {},
   "outputs": [
    {
     "name": "stdout",
     "output_type": "stream",
     "text": [
      "     Element  Area      a    g      v    Vp    Va Vg   Vv\n",
      "0  Flat area  2000  0.818  0.0  0.182  1400  1145  0  255\n",
      "1       Roof  4000  0.903  0.0  0.097  2800  2527  0  273\n",
      "2     System  6000  0.874  0.0  0.126  4200  3672  0  528\n"
     ]
    }
   ],
   "source": [
    "site = StudyArea(p=700, etp=575)\n",
    "\n",
    "sealed_square = site.flat_area(area=2000)\n",
    "roof = site.roof(area=4000, sp=0.3)\n",
    "\n",
    "print(watbal(sealed_square,roof))"
   ]
  },
  {
   "cell_type": "markdown",
   "id": "83425367",
   "metadata": {},
   "source": [
    "Man erkennt, dass die Aufteilungsfaktoren für Abfaluss (a) besonders hoch sind und die Verdunstung nur sehr geringe Werte annimmt (v). Die Grundwasser spielt praktisch keine Rolle bei ausschließlicher Versiegelung. Wir können das System modifizieren, indem wir die versiegelte Fläche stark verkleinern und einen Großteil in Grünflächen umwandeln:"
   ]
  },
  {
   "cell_type": "code",
   "execution_count": 14,
   "id": "88422a7c",
   "metadata": {},
   "outputs": [
    {
     "name": "stdout",
     "output_type": "stream",
     "text": [
      "               Element  Area      a     g      v    Vp    Va   Vg   Vv\n",
      "0                 Roof  4000  0.903  0.00  0.097  2800  2527    0  273\n",
      "1            Flat area   500  0.818  0.00  0.182   350   286    0   64\n",
      "2  Garden / green area  1500  0.200  0.20  0.600  1050   210  210  630\n",
      "3               System  6000  0.720  0.05  0.230  4200  3023  210  967\n"
     ]
    }
   ],
   "source": [
    "sealed_square_1 = site.flat_area(area=500)\n",
    "sealed_square_2 = site.garden(area=1500,a=0.2,v=0.6,g=0.2)\n",
    "print(watbal(roof,sealed_square_1,sealed_square_2))\n"
   ]
  },
  {
   "cell_type": "markdown",
   "id": "da6f8736",
   "metadata": {},
   "source": [
    "Dardurch verschiebt sich für das gesamte System der Wasserhaushalt in Richtung geringerer Aufteilungswerte für den Abfluss. Wenn wir anstelle von Standarddächern dünschichtige Gründachaufbauten vorsehen, können wir die Wasserbilanz weiter modifizieren:"
   ]
  },
  {
   "cell_type": "code",
   "execution_count": 15,
   "id": "e6504ba4",
   "metadata": {},
   "outputs": [
    {
     "name": "stdout",
     "output_type": "stream",
     "text": [
      "               Element  Area      a      g      v    Vp    Va   Vg    Vv\n",
      "0   Green roof shallow  2000  0.602  0.000  0.398  1400   843    0   557\n",
      "1            Flat area   500  0.818  0.000  0.182   350   286    0    64\n",
      "2  Garden / green area  1500  0.200  0.200  0.600  1050   210  210   630\n",
      "3               System  4000  0.478  0.075  0.447  2800  1339  210  1251\n"
     ]
    }
   ],
   "source": [
    "green_roof = site.green_roof_shallow(2000)\n",
    "print(watbal(green_roof,sealed_square_1,sealed_square_2))"
   ]
  },
  {
   "cell_type": "markdown",
   "id": "2a0110ee",
   "metadata": {},
   "source": [
    "Somit kann der Abfluss auf unter 50% reduziert werden. Wir können nun noch eine Verisckerungsmulde anlegen und ausrechnen lassen, welche Grundfläche diese haben müsste:"
   ]
  },
  {
   "cell_type": "code",
   "execution_count": 28,
   "id": "602a2ad8",
   "metadata": {},
   "outputs": [
    {
     "name": "stdout",
     "output_type": "stream",
     "text": [
      "               Element  Area      a      g      v    Vp Va    Vg    Vv\n",
      "0   Green roof shallow  2000  0.602      0  0.398  1400  0     0   557\n",
      "1            Flat area   500  0.818      0  0.182   350  0     0    64\n",
      "2  Garden / green area  1500  0.200    0.2  0.600  1050  0   210   630\n",
      "3        Infilt. swale   103  0.002  0.974  0.024    72  3  1375    34\n",
      "4               System  4103  0.001  0.552  0.447  2872  3  1585  1285\n"
     ]
    }
   ],
   "source": [
    "swale = site.infilt_swale(700, green_roof,sealed_square_1,sealed_square_2)\n",
    "print(watbal(swale))"
   ]
  },
  {
   "cell_type": "markdown",
   "id": "16104200",
   "metadata": {},
   "source": [
    "Wegen der immer noch hohen Werte (a), hätte die Mulde eine Fläche 103 Quadratmetern. Der Wasserhaushalt teilt sich aber nun praktisch auf Grundwasserneubildung und Verdunstung auf. Gegenüber dem Referenzzustand ist die Grundwasserneubildung vermutlich zu hoch. Außerdem lässt sich das Gesamtergebnis auch grafisch darstellen:"
   ]
  },
  {
   "cell_type": "code",
   "execution_count": 25,
   "id": "a1d11e79",
   "metadata": {},
   "outputs": [
    {
     "data": {
      "text/plain": [
       "<Axes: xlabel='Element'>"
      ]
     },
     "execution_count": 25,
     "metadata": {},
     "output_type": "execute_result"
    },
    {
     "data": {
      "image/png": "[encoded data removed]",
      "text/plain": [
       "<Figure size 640x480 with 1 Axes>"
      ]
     },
     "metadata": {},
     "output_type": "display_data"
    }
   ],
   "source": [
    "res = watbal(green_roof,sealed_square_1,sealed_square_2)\n",
    "res.set_index('Element', inplace=True)\n",
    "res.drop(columns=['Area','Vp','Va','Vg','Vv'], inplace=True)\n",
    "res.plot(kind='bar')"
   ]
  }
 ],
 "metadata": {
  "kernelspec": {
   "display_name": "Python 3 (ipykernel)",
   "language": "python",
   "name": "python3"
  },
  "language_info": {
   "codemirror_mode": {
    "name": "ipython",
    "version": 3
   },
   "file_extension": ".py",
   "mimetype": "text/x-python",
   "name": "python",
   "nbconvert_exporter": "python",
   "pygments_lexer": "ipython3",
   "version": "3.11.4"
  }
 },
 "nbformat": 4,
 "nbformat_minor": 5
}
