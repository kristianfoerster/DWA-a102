{
 "cells": [
  {
   "cell_type": "markdown",
   "metadata": {},
   "source": [
    "# DWA-A102 library\n",
    "\n",
    "**Author: Edwin Echeverri S. (2021-03-27)**\n"
   ]
  },
  {
   "cell_type": "markdown",
   "metadata": {},
   "source": [
    "## Import"
   ]
  },
  {
   "cell_type": "code",
   "execution_count": 1,
   "metadata": {},
   "outputs": [],
   "source": [
    "# import standard libraries\n",
    "import numpy as np\n",
    "import pandas as pd\n",
    "from IPython.display import Image\n",
    "\n",
    "# import dwa-a102 libraries\n",
    "from dwa_a102 import StudyArea as StudyArea\n",
    "from dwa_a102 import watbal as watbal\n",
    "from check_ranges import validRange\n",
    "from climate import climate"
   ]
  },
  {
   "cell_type": "markdown",
   "metadata": {},
   "source": [
    "## 1. Introduction\n",
    "\n",
    "This notebook presents some basic examples of the usage of the library DWA-A102. The purpose of the deloved code is to provide a tool to calculate the main components of the water balance in urban areas. The applied equations are the presented in the German Guideline DWA-A102 (2017). The balance is considered as:\n",
    "\n",
    "<center>$P_{korr} = R_D + ET_a+ GWN $<center>\n",
    "\n",
    "That can be rewriten as:\n",
    "\n",
    "<center>$P_{korr} = a*P_{korr} + v*P_{korr} + g*P_{korr}$<center>\n",
    "\n",
    "Having:\n",
    "\n",
    "<center>$1 = a + v + g$<center>\n",
    "<br \\n>\n",
    "    \n",
    "<center>(DWA-A 102, 2017)<center>"
   ]
  },
  {
   "cell_type": "markdown",
   "metadata": {},
   "source": [
    "$P_{korr}$\t: Precipitation (corrected) (mm/a), \n",
    "$R_D$\t: Surface runoff (mm/a), \n",
    "$ET_a$\t: Actual evapotranspiration (mm/a), \n",
    "$GWN$\t: Groundwater recharge (mm/a), \n",
    "$a$\t: Partitioning factor for surface runoff (-), \n",
    "$v$\t: Partitioning factor for evapotranspiration (-), \n",
    "$g$\t: Partitioning factor for groundwater recharge (-)."
   ]
  },
  {
   "cell_type": "markdown",
   "metadata": {},
   "source": [
    "The structure of the library is presented in the following figure:\n",
    "\n",
    "<br></br>\n",
    "<center><img src=\"images/dwa-a102_Structure.png\"  style=\"width: 600px\"><center>\n",
    "<br></br>\n",
    "    \n",
    "<center> <b> Fig. 1: Classes and functions of package </b> <center>"
   ]
  },
  {
   "cell_type": "markdown",
   "metadata": {},
   "source": [
    "The Classes Surface() and Measure() contains the following methods:\n",
    "\n",
    "<br></br>\n",
    "<center><img src=\"images/dwa-a102_Methods.png\"  style=\"width: 600px\"><center>\n",
    "<br></br>\n",
    "    \n",
    "<center> <b> Fig. 2: Methods of classes \"Surface\" and \"Measure\" </b> <center>"
   ]
  },
  {
   "cell_type": "markdown",
   "metadata": {},
   "source": [
    "## 2. Examples"
   ]
  },
  {
   "cell_type": "markdown",
   "metadata": {},
   "source": [
    "### 2.1 Create Study Area\n",
    "The first recommended step is to define your Study Area with the climatic data (P, ETp). By default, the library considers a P=800 mm/a, and ETp = 500 mm/a."
   ]
  },
  {
   "cell_type": "code",
   "execution_count": 2,
   "metadata": {},
   "outputs": [
    {
     "name": "stdout",
     "output_type": "stream",
     "text": [
      "Study area has a precipitation of 900.0 mm/a, and potential evapotranspiration of 600 mm/a\n"
     ]
    }
   ],
   "source": [
    "my_area = StudyArea(p=900, etp=600)\n",
    "print(my_area)"
   ]
  },
  {
   "cell_type": "code",
   "execution_count": 3,
   "metadata": {},
   "outputs": [
    {
     "name": "stdout",
     "output_type": "stream",
     "text": [
      "Study area has a precipitation of 800.0 mm/a, and potential evapotranspiration of 500 mm/a\n"
     ]
    }
   ],
   "source": [
    "my_area2 = StudyArea()\n",
    "print(my_area2)"
   ]
  },
  {
   "cell_type": "markdown",
   "metadata": {},
   "source": [
    "The user can use the reference climatic values that the package contians for the 58 biggest cities in Germany. In this case, it is only necessary to define the location as follows:"
   ]
  },
  {
   "cell_type": "code",
   "execution_count": 4,
   "metadata": {},
   "outputs": [
    {
     "name": "stdout",
     "output_type": "stream",
     "text": [
      "Study area has a precipitation of 658.0 mm/a, and potential evapotranspiration of 619.2 mm/a\n"
     ]
    }
   ],
   "source": [
    "hannover = StudyArea(location=\"Hannover\")\n",
    "print(hannover)"
   ]
  },
  {
   "cell_type": "markdown",
   "metadata": {},
   "source": [
    "In either case, whether the user enters the climatic values or uses the reference dictionary, the values are validated to see if they are within the range of validity of the equations."
   ]
  },
  {
   "cell_type": "code",
   "execution_count": 17,
   "metadata": {},
   "outputs": [
    {
     "ename": "Exception",
     "evalue": "Precipitation is not valid. Acceptable range: 500 - 1700 mm/a",
     "output_type": "error",
     "traceback": [
      "\u001b[0;31m---------------------------------------------------------------------------\u001b[0m",
      "\u001b[0;31mException\u001b[0m                                 Traceback (most recent call last)",
      "Cell \u001b[0;32mIn[17], line 1\u001b[0m\n\u001b[0;32m----> 1\u001b[0m my_area3 \u001b[38;5;241m=\u001b[39m StudyArea(p\u001b[38;5;241m=\u001b[39m\u001b[38;5;241m1750\u001b[39m, etp\u001b[38;5;241m=\u001b[39m\u001b[38;5;241m400\u001b[39m)\n",
      "File \u001b[0;32m~/Documents/HSWT/Lehre/Urbane_Pflanzkonzepte/dwa102_repository/DWA-a102/dwa_a102.py:1138\u001b[0m, in \u001b[0;36mStudyArea.__init__\u001b[0;34m(self, p, etp, location, p_corr_factor)\u001b[0m\n\u001b[1;32m   1135\u001b[0m     \u001b[38;5;28mself\u001b[39m\u001b[38;5;241m.\u001b[39mp \u001b[38;5;241m=\u001b[39m p\u001b[38;5;241m*\u001b[39mp_corr_factor\n\u001b[1;32m   1136\u001b[0m     \u001b[38;5;28mself\u001b[39m\u001b[38;5;241m.\u001b[39metp \u001b[38;5;241m=\u001b[39m etp\n\u001b[0;32m-> 1138\u001b[0m validRange(\u001b[38;5;28mself\u001b[39m\u001b[38;5;241m.\u001b[39mp, \u001b[38;5;124m'\u001b[39m\u001b[38;5;124mP\u001b[39m\u001b[38;5;124m'\u001b[39m)\n\u001b[1;32m   1139\u001b[0m validRange(\u001b[38;5;28mself\u001b[39m\u001b[38;5;241m.\u001b[39metp, \u001b[38;5;124m'\u001b[39m\u001b[38;5;124mETp\u001b[39m\u001b[38;5;124m'\u001b[39m)\n",
      "File \u001b[0;32m~/Documents/HSWT/Lehre/Urbane_Pflanzkonzepte/dwa102_repository/DWA-a102/check_ranges.py:46\u001b[0m, in \u001b[0;36mvalidRange\u001b[0;34m(val, param)\u001b[0m\n\u001b[1;32m     43\u001b[0m \u001b[38;5;250m\u001b[39m\u001b[38;5;124;03m''' generic function to check parameter range'''\u001b[39;00m\n\u001b[1;32m     45\u001b[0m \u001b[38;5;28;01mif\u001b[39;00m ( (val \u001b[38;5;241m<\u001b[39m param_rages[param][\u001b[38;5;241m0\u001b[39m]) \u001b[38;5;129;01mor\u001b[39;00m (val \u001b[38;5;241m>\u001b[39m param_rages[param][\u001b[38;5;241m1\u001b[39m]) ): \n\u001b[0;32m---> 46\u001b[0m     \u001b[38;5;28;01mraise\u001b[39;00m \u001b[38;5;167;01mException\u001b[39;00m(\u001b[38;5;124mf\u001b[39m\u001b[38;5;124m\"\u001b[39m\u001b[38;5;132;01m{\u001b[39;00mparam_rages[param][\u001b[38;5;241m2\u001b[39m]\u001b[38;5;132;01m}\u001b[39;00m\u001b[38;5;124m is not valid.\u001b[39m\u001b[38;5;124m\"\u001b[39m\n\u001b[1;32m     47\u001b[0m                     \u001b[38;5;124mf\u001b[39m\u001b[38;5;124m\"\u001b[39m\u001b[38;5;124m Acceptable range: \u001b[39m\u001b[38;5;132;01m{\u001b[39;00mparam_rages[param][\u001b[38;5;241m0\u001b[39m]\u001b[38;5;132;01m}\u001b[39;00m\u001b[38;5;124m - \u001b[39m\u001b[38;5;132;01m{\u001b[39;00mparam_rages[param][\u001b[38;5;241m1\u001b[39m]\u001b[38;5;132;01m}\u001b[39;00m\u001b[38;5;124m\"\u001b[39m\n\u001b[1;32m     48\u001b[0m                     \u001b[38;5;124mf\u001b[39m\u001b[38;5;124m\"\u001b[39m\u001b[38;5;124m \u001b[39m\u001b[38;5;132;01m{\u001b[39;00mparam_rages[param][\u001b[38;5;241m3\u001b[39m]\u001b[38;5;132;01m}\u001b[39;00m\u001b[38;5;124m\"\u001b[39m)\n",
      "\u001b[0;31mException\u001b[0m: Precipitation is not valid. Acceptable range: 500 - 1700 mm/a"
     ]
    }
   ],
   "source": [
    "my_area3 = StudyArea(p=1750, etp=400)"
   ]
  },
  {
   "cell_type": "code",
   "execution_count": 18,
   "metadata": {},
   "outputs": [
    {
     "ename": "Exception",
     "evalue": "Evapotranspiration is not valid. Acceptable range: 450 - 700 mm/a",
     "output_type": "error",
     "traceback": [
      "\u001b[0;31m---------------------------------------------------------------------------\u001b[0m",
      "\u001b[0;31mException\u001b[0m                                 Traceback (most recent call last)",
      "Cell \u001b[0;32mIn[18], line 1\u001b[0m\n\u001b[0;32m----> 1\u001b[0m my_area3 \u001b[38;5;241m=\u001b[39m StudyArea(p\u001b[38;5;241m=\u001b[39m\u001b[38;5;241m1700\u001b[39m, etp\u001b[38;5;241m=\u001b[39m\u001b[38;5;241m400\u001b[39m)\n",
      "File \u001b[0;32m~/Documents/HSWT/Lehre/Urbane_Pflanzkonzepte/dwa102_repository/DWA-a102/dwa_a102.py:1139\u001b[0m, in \u001b[0;36mStudyArea.__init__\u001b[0;34m(self, p, etp, location, p_corr_factor)\u001b[0m\n\u001b[1;32m   1136\u001b[0m     \u001b[38;5;28mself\u001b[39m\u001b[38;5;241m.\u001b[39metp \u001b[38;5;241m=\u001b[39m etp\n\u001b[1;32m   1138\u001b[0m validRange(\u001b[38;5;28mself\u001b[39m\u001b[38;5;241m.\u001b[39mp, \u001b[38;5;124m'\u001b[39m\u001b[38;5;124mP\u001b[39m\u001b[38;5;124m'\u001b[39m)\n\u001b[0;32m-> 1139\u001b[0m validRange(\u001b[38;5;28mself\u001b[39m\u001b[38;5;241m.\u001b[39metp, \u001b[38;5;124m'\u001b[39m\u001b[38;5;124mETp\u001b[39m\u001b[38;5;124m'\u001b[39m)\n",
      "File \u001b[0;32m~/Documents/HSWT/Lehre/Urbane_Pflanzkonzepte/dwa102_repository/DWA-a102/check_ranges.py:46\u001b[0m, in \u001b[0;36mvalidRange\u001b[0;34m(val, param)\u001b[0m\n\u001b[1;32m     43\u001b[0m \u001b[38;5;250m\u001b[39m\u001b[38;5;124;03m''' generic function to check parameter range'''\u001b[39;00m\n\u001b[1;32m     45\u001b[0m \u001b[38;5;28;01mif\u001b[39;00m ( (val \u001b[38;5;241m<\u001b[39m param_rages[param][\u001b[38;5;241m0\u001b[39m]) \u001b[38;5;129;01mor\u001b[39;00m (val \u001b[38;5;241m>\u001b[39m param_rages[param][\u001b[38;5;241m1\u001b[39m]) ): \n\u001b[0;32m---> 46\u001b[0m     \u001b[38;5;28;01mraise\u001b[39;00m \u001b[38;5;167;01mException\u001b[39;00m(\u001b[38;5;124mf\u001b[39m\u001b[38;5;124m\"\u001b[39m\u001b[38;5;132;01m{\u001b[39;00mparam_rages[param][\u001b[38;5;241m2\u001b[39m]\u001b[38;5;132;01m}\u001b[39;00m\u001b[38;5;124m is not valid.\u001b[39m\u001b[38;5;124m\"\u001b[39m\n\u001b[1;32m     47\u001b[0m                     \u001b[38;5;124mf\u001b[39m\u001b[38;5;124m\"\u001b[39m\u001b[38;5;124m Acceptable range: \u001b[39m\u001b[38;5;132;01m{\u001b[39;00mparam_rages[param][\u001b[38;5;241m0\u001b[39m]\u001b[38;5;132;01m}\u001b[39;00m\u001b[38;5;124m - \u001b[39m\u001b[38;5;132;01m{\u001b[39;00mparam_rages[param][\u001b[38;5;241m1\u001b[39m]\u001b[38;5;132;01m}\u001b[39;00m\u001b[38;5;124m\"\u001b[39m\n\u001b[1;32m     48\u001b[0m                     \u001b[38;5;124mf\u001b[39m\u001b[38;5;124m\"\u001b[39m\u001b[38;5;124m \u001b[39m\u001b[38;5;132;01m{\u001b[39;00mparam_rages[param][\u001b[38;5;241m3\u001b[39m]\u001b[38;5;132;01m}\u001b[39;00m\u001b[38;5;124m\"\u001b[39m)\n",
      "\u001b[0;31mException\u001b[0m: Evapotranspiration is not valid. Acceptable range: 450 - 700 mm/a"
     ]
    }
   ],
   "source": [
    "my_area3 = StudyArea(p=1700, etp=400)"
   ]
  },
  {
   "cell_type": "code",
   "execution_count": 7,
   "metadata": {},
   "outputs": [
    {
     "name": "stdout",
     "output_type": "stream",
     "text": [
      "Study area has a precipitation of 1700.0 mm/a, and potential evapotranspiration of 450 mm/a\n"
     ]
    }
   ],
   "source": [
    "my_area3 = StudyArea(p=1700, etp=450)\n",
    "print(my_area3)"
   ]
  },
  {
   "cell_type": "markdown",
   "metadata": {},
   "source": [
    "## 2.2 Surfaces\n",
    "Consider that in Hannover a building that is sorrounded by a parking area and some gardens as shown in the following figure.\n",
    "    \n",
    "<br></br>\n",
    "<center><img src=\"images/LUH_Building_Example.png\"  style=\"width: 450px\"><center>\n",
    "<br></br>\n",
    "\n",
    "<center> <b> Fig. 3: Study area in Hannover </b> <center>\n",
    "<center> Source: Google Earth <center>"
   ]
  },
  {
   "cell_type": "markdown",
   "metadata": {},
   "source": [
    "The type of surfaces, their area, and method to use in the library are presented in the following table:"
   ]
  },
  {
   "cell_type": "markdown",
   "metadata": {},
   "source": [
    "<center> <b> Table 1: Surfaces and methods to apply in example </b> <center>\n",
    "      \n",
    "    \n",
    "| Surface     \t| Area (m<sup>2</sup>) \t| Method to use   \t                     |\n",
    "|-------------\t|-----------\t        |-----------------\t                     |\n",
    "| Steep roof  \t| 1100      \t        | roof(self, area, sp=0.3)    \t         |\n",
    "| Parking lot \t| 1500      \t        | flat_area(self, area, sp=1) \t         |\n",
    "| Garden      \t| 440       \t        | garden(self, area, a=0.2, g=0.2, v=0.6)|\n",
    "| Flat roof   \t| 92        \t        | roof(self, area, sp=0.6)       \t     |\n",
    "| Total area  \t| 3132      \t        |                 \t                     |"
   ]
  },
  {
   "cell_type": "markdown",
   "metadata": {},
   "source": [
    "In case the user requires details about the methods, the method \"help\" describes the method, as well details about inputs, default values, and outputs. To access to the help function just type \"help(StudyArea(method)\", for example \"help(StudyArea(green_roof)\". In this example, because \"hannover\" is already a StudyArea, we can call directly the helps function as:"
   ]
  },
  {
   "cell_type": "code",
   "execution_count": 8,
   "metadata": {},
   "outputs": [
    {
     "name": "stdout",
     "output_type": "stream",
     "text": [
      "Help on method roof in module dwa_a102:\n",
      "\n",
      "roof(area, sp=0.3) method of dwa_a102.StudyArea instance\n",
      "    Calculates water balance components for steep roofs (all materials)\n",
      "    or flat roofs made with smooth materials (e.g. glass, metal)\n",
      "    \n",
      "    Parameters\n",
      "    ----------\n",
      "    Area : float\n",
      "         element area (m2)    \n",
      "           \n",
      "    Sp : float\n",
      "       storage height (mm)\n",
      "       \n",
      "    Notes    \n",
      "    ------\n",
      "    Ranges of validity for the parameters are:\n",
      "      Sp: 0.1 - 0.6 mm\n",
      "      \n",
      "    Standard Sp-values are:\n",
      "      Steep roof: Sp = 0.3 mm\n",
      "      Flat with smooth cover (glass or metal): Sp = 0.6 mm\n",
      "    \n",
      "    Returns\n",
      "    -------\n",
      "    results : DataFrame\n",
      "\n"
     ]
    }
   ],
   "source": [
    "help(hannover.roof)"
   ]
  },
  {
   "cell_type": "code",
   "execution_count": 9,
   "metadata": {},
   "outputs": [
    {
     "name": "stdout",
     "output_type": "stream",
     "text": [
      "  Element  Area   Au      P    Etp      a  g      v  e   Vp   Va  Vg  Vv  Ve\n",
      "0    Roof  1100  989  658.0  619.2  0.899  0  0.101  0  724  651   0  73   0\n"
     ]
    }
   ],
   "source": [
    "steep_roof = hannover.roof(area=1100, sp=0.3)\n",
    "print(steep_roof)"
   ]
  },
  {
   "cell_type": "markdown",
   "metadata": {},
   "source": [
    "With: <br />\n",
    "\n",
    "Area: surface of element (m<sup>2</sup>) \\\n",
    "Au: effective area generating runoff (m<sup>2</sup>), (calculated as Area*a)\\\n",
    "P: precipitation (mm/a)\\\n",
    "ETp: potential evapotranspiration (mm/a)\\\n",
    "a\t: partitioning factor for surface runoff (-)\\\n",
    "g: partitioning factor for groundwater recharge (-)\\\n",
    "v: partitioning factor for evapotranspiration (-)\\\n",
    "e: fractioning factor of precipitation for rainwater usage/harvesting (-)\\\n",
    "Vp: volume of precipitation in a year over the element (m<sup>3</sup>)\\\n",
    "Vg: volume of groundwater recharge in a year due to the element (m<sup>3</sup>)\\\n",
    "Vv: evapo(transpi)red volume in a year over the element (m<sup>3</sup>)\\\n",
    "Ve: volume of water used/harvested per year (m<sup>3</sup>)."
   ]
  },
  {
   "cell_type": "code",
   "execution_count": 10,
   "metadata": {},
   "outputs": [
    {
     "name": "stdout",
     "output_type": "stream",
     "text": [
      "     Element  Area    Au      P    Etp      a  g      v  e   Vp   Va  Vg   Vv  \\\n",
      "0  Flat area  1500  1210  658.0  619.2  0.806  0  0.194  0  987  796   0  191   \n",
      "\n",
      "   Ve  \n",
      "0   0  \n"
     ]
    }
   ],
   "source": [
    "parking_lot = hannover.flat_area(area=1500)\n",
    "print(parking_lot)"
   ]
  },
  {
   "cell_type": "code",
   "execution_count": 11,
   "metadata": {},
   "outputs": [
    {
     "name": "stdout",
     "output_type": "stream",
     "text": [
      "               Element  Area  Au      P    Etp    a    g    v  e   Vp  Va  Vg  \\\n",
      "0  Garden / green area   440  88  658.0  619.2  0.2  0.2  0.6  0  290  58  58   \n",
      "\n",
      "    Vv  Ve  \n",
      "0  174   0  \n"
     ]
    }
   ],
   "source": [
    "garden = hannover.garden(area=440)\n",
    "print(garden)"
   ]
  },
  {
   "cell_type": "code",
   "execution_count": 12,
   "metadata": {},
   "outputs": [
    {
     "name": "stdout",
     "output_type": "stream",
     "text": [
      "  Element  Area  Au      P    Etp      a  g      v  e  Vp  Va  Vg  Vv  Ve\n",
      "0    Roof    92  79  658.0  619.2  0.856  0  0.144  0  61  52   0   9   0\n"
     ]
    }
   ],
   "source": [
    "flat_roof = hannover.roof(area=92, sp=0.6)\n",
    "print(flat_roof)"
   ]
  },
  {
   "cell_type": "markdown",
   "metadata": {},
   "source": [
    "In this point, it is relevant to consider the whole water balance of system compound by the designed elements. In this step we use the function \"watbal()\" as follows: "
   ]
  },
  {
   "cell_type": "code",
   "execution_count": 13,
   "metadata": {},
   "outputs": [
    {
     "data": {
      "text/html": [
       "<div>\n",
       "<style scoped>\n",
       "    .dataframe tbody tr th:only-of-type {\n",
       "        vertical-align: middle;\n",
       "    }\n",
       "\n",
       "    .dataframe tbody tr th {\n",
       "        vertical-align: top;\n",
       "    }\n",
       "\n",
       "    .dataframe thead th {\n",
       "        text-align: right;\n",
       "    }\n",
       "</style>\n",
       "<table border=\"1\" class=\"dataframe\">\n",
       "  <thead>\n",
       "    <tr style=\"text-align: right;\">\n",
       "      <th></th>\n",
       "      <th>Element</th>\n",
       "      <th>Area</th>\n",
       "      <th>a</th>\n",
       "      <th>g</th>\n",
       "      <th>v</th>\n",
       "      <th>Vp</th>\n",
       "      <th>Va</th>\n",
       "      <th>Vg</th>\n",
       "      <th>Vv</th>\n",
       "    </tr>\n",
       "  </thead>\n",
       "  <tbody>\n",
       "    <tr>\n",
       "      <th>0</th>\n",
       "      <td>Roof</td>\n",
       "      <td>1100</td>\n",
       "      <td>0.899</td>\n",
       "      <td>0.000</td>\n",
       "      <td>0.101</td>\n",
       "      <td>724</td>\n",
       "      <td>651</td>\n",
       "      <td>0</td>\n",
       "      <td>73</td>\n",
       "    </tr>\n",
       "    <tr>\n",
       "      <th>1</th>\n",
       "      <td>Flat area</td>\n",
       "      <td>1500</td>\n",
       "      <td>0.806</td>\n",
       "      <td>0.000</td>\n",
       "      <td>0.194</td>\n",
       "      <td>987</td>\n",
       "      <td>796</td>\n",
       "      <td>0</td>\n",
       "      <td>191</td>\n",
       "    </tr>\n",
       "    <tr>\n",
       "      <th>2</th>\n",
       "      <td>Garden / green area</td>\n",
       "      <td>440</td>\n",
       "      <td>0.200</td>\n",
       "      <td>0.200</td>\n",
       "      <td>0.600</td>\n",
       "      <td>290</td>\n",
       "      <td>58</td>\n",
       "      <td>58</td>\n",
       "      <td>174</td>\n",
       "    </tr>\n",
       "    <tr>\n",
       "      <th>3</th>\n",
       "      <td>Roof</td>\n",
       "      <td>92</td>\n",
       "      <td>0.856</td>\n",
       "      <td>0.000</td>\n",
       "      <td>0.144</td>\n",
       "      <td>61</td>\n",
       "      <td>52</td>\n",
       "      <td>0</td>\n",
       "      <td>9</td>\n",
       "    </tr>\n",
       "    <tr>\n",
       "      <th>4</th>\n",
       "      <td>System</td>\n",
       "      <td>3132</td>\n",
       "      <td>0.755</td>\n",
       "      <td>0.028</td>\n",
       "      <td>0.217</td>\n",
       "      <td>2062</td>\n",
       "      <td>1557</td>\n",
       "      <td>58</td>\n",
       "      <td>447</td>\n",
       "    </tr>\n",
       "  </tbody>\n",
       "</table>\n",
       "</div>"
      ],
      "text/plain": [
       "               Element  Area      a      g      v    Vp    Va  Vg   Vv\n",
       "0                 Roof  1100  0.899  0.000  0.101   724   651   0   73\n",
       "1            Flat area  1500  0.806  0.000  0.194   987   796   0  191\n",
       "2  Garden / green area   440  0.200  0.200  0.600   290    58  58  174\n",
       "3                 Roof    92  0.856  0.000  0.144    61    52   0    9\n",
       "4               System  3132  0.755  0.028  0.217  2062  1557  58  447"
      ]
     },
     "execution_count": 13,
     "metadata": {},
     "output_type": "execute_result"
    }
   ],
   "source": [
    "watbal(steep_roof, parking_lot, garden, flat_roof)"
   ]
  },
  {
   "cell_type": "markdown",
   "metadata": {},
   "source": [
    "Notice that 76% of the precipitation becomes surface runoff. While the groundwater recharge is below 3%, and the losses due to evapotranspiration reach 21%."
   ]
  },
  {
   "cell_type": "markdown",
   "metadata": {},
   "source": [
    "## 2.3 Measures\n",
    "The University´s Infrastructure Office wants to know how some changes in the type of surfaces and the installation of some stormwater measures contribute to restoring the natural water balance in a pilot area. The main ideas consist of changing the surface type of the parking lots from paved into grass pavers. The flat roof would be adequate as a green roof, and the installation of a swale to manage the runoff produced by the steep roof is considered. The final pilot area would look like the following figure:\n",
    "    \n",
    "<br></br>\n",
    "<center><img src=\"images/LUH_Building_Example_&_Measures.png\"  style=\"width: 450px\"><center>\n",
    "<br></br>\n",
    "    \n",
    "<center> <b> Fig. 4: Study area in Hannover after modifiying soil type</b> <center>\n",
    "<center> Source: Adapted from Google Earth <center>\n",
    "<br></br>    \n",
    " \n",
    "<center> <b> Table 2: Surfaces, measures, and methods to be applied </b> <center>    \n",
    "    \n",
    "| Surface     \t| New surface  \t| Measure            \t| Area (m<sup>2</sup>) \t| Method for   surface type                                 \t| Method for   measure                                       \t|\n",
    "|-------------\t|--------------\t|--------------------\t|-----------\t|-----------------------------------------------------------\t|------------------------------------------------------------\t|\n",
    "| Steep roof  \t|             \t| Infiltration swale \t| 1100      \t| roof(self, area,   sp=0.3)                                \t|  infilt_swale(self, kf, *surfaces,   fasm=\"fasm_standard\") \t|\n",
    "| Parking lot \t| Green pavers \t|                    \t| 1500      \t| paver_stonegrid(self,   area, fa=25, sp=1, wkmax_wp=0.15) \t|                                                            \t|\n",
    "| Garden      \t|             \t|                    \t| 440       \t| garden(self, area,   a=0.2, g=0.2, v=0.6)                 \t|                                                            \t|\n",
    "| Flat roof   \t| Green roof   \t|                    \t| 92        \t| green_roof(self,   area, h, kf=70, wkmax_wp=0.5)          \t|                                                            \t|\n",
    "| Total area  \t|              \t|                    \t| 3132      \t|                                                           \t|                                                            \t|"
   ]
  },
  {
   "cell_type": "code",
   "execution_count": 14,
   "metadata": {},
   "outputs": [
    {
     "name": "stdout",
     "output_type": "stream",
     "text": [
      "         Element  Area   Au      P    Etp      a      g      v  e   Vp  Va  \\\n",
      "0           Roof  1100  989  658.0  619.2  0.899      0  0.101  0  724   0   \n",
      "1  Infilt. swale   129  989  658.0  619.2  0.000  0.947  0.055  0   85   0   \n",
      "\n",
      "    Vg  Vv Ve  \n",
      "0    0  73  0  \n",
      "1  697  40  0  \n"
     ]
    }
   ],
   "source": [
    "steep_roof = hannover.roof(area=1100, sp=0.3)\n",
    "swale = hannover.infilt_swale(42, steep_roof)\n",
    "print(swale)"
   ]
  },
  {
   "cell_type": "code",
   "execution_count": 15,
   "metadata": {},
   "outputs": [],
   "source": [
    "parking_lot = hannover.paver_stonegrid(1500)\n",
    "garden = hannover.garden(area=310)\n",
    "green_roof = hannover.green_roof(92, 100)"
   ]
  },
  {
   "cell_type": "markdown",
   "metadata": {},
   "source": [
    "The water balance of the analyzed system after the installation of the measures is:"
   ]
  },
  {
   "cell_type": "code",
   "execution_count": 16,
   "metadata": {},
   "outputs": [
    {
     "data": {
      "text/html": [
       "<div>\n",
       "<style scoped>\n",
       "    .dataframe tbody tr th:only-of-type {\n",
       "        vertical-align: middle;\n",
       "    }\n",
       "\n",
       "    .dataframe tbody tr th {\n",
       "        vertical-align: top;\n",
       "    }\n",
       "\n",
       "    .dataframe thead th {\n",
       "        text-align: right;\n",
       "    }\n",
       "</style>\n",
       "<table border=\"1\" class=\"dataframe\">\n",
       "  <thead>\n",
       "    <tr style=\"text-align: right;\">\n",
       "      <th></th>\n",
       "      <th>Element</th>\n",
       "      <th>Area</th>\n",
       "      <th>a</th>\n",
       "      <th>g</th>\n",
       "      <th>v</th>\n",
       "      <th>Vp</th>\n",
       "      <th>Va</th>\n",
       "      <th>Vg</th>\n",
       "      <th>Vv</th>\n",
       "    </tr>\n",
       "  </thead>\n",
       "  <tbody>\n",
       "    <tr>\n",
       "      <th>0</th>\n",
       "      <td>Roof</td>\n",
       "      <td>1100</td>\n",
       "      <td>0.899</td>\n",
       "      <td>0</td>\n",
       "      <td>0.101</td>\n",
       "      <td>724</td>\n",
       "      <td>0</td>\n",
       "      <td>0</td>\n",
       "      <td>73</td>\n",
       "    </tr>\n",
       "    <tr>\n",
       "      <th>1</th>\n",
       "      <td>Infilt. swale</td>\n",
       "      <td>129</td>\n",
       "      <td>0.000</td>\n",
       "      <td>0.947</td>\n",
       "      <td>0.055</td>\n",
       "      <td>85</td>\n",
       "      <td>0</td>\n",
       "      <td>697</td>\n",
       "      <td>40</td>\n",
       "    </tr>\n",
       "    <tr>\n",
       "      <th>2</th>\n",
       "      <td>Paver stone-grid</td>\n",
       "      <td>1500</td>\n",
       "      <td>0.044</td>\n",
       "      <td>0.704</td>\n",
       "      <td>0.252</td>\n",
       "      <td>987</td>\n",
       "      <td>43</td>\n",
       "      <td>695</td>\n",
       "      <td>249</td>\n",
       "    </tr>\n",
       "    <tr>\n",
       "      <th>3</th>\n",
       "      <td>Garden / green area</td>\n",
       "      <td>310</td>\n",
       "      <td>0.200</td>\n",
       "      <td>0.2</td>\n",
       "      <td>0.600</td>\n",
       "      <td>204</td>\n",
       "      <td>41</td>\n",
       "      <td>41</td>\n",
       "      <td>122</td>\n",
       "    </tr>\n",
       "    <tr>\n",
       "      <th>4</th>\n",
       "      <td>Green roof</td>\n",
       "      <td>92</td>\n",
       "      <td>0.413</td>\n",
       "      <td>0</td>\n",
       "      <td>0.587</td>\n",
       "      <td>61</td>\n",
       "      <td>25</td>\n",
       "      <td>0</td>\n",
       "      <td>36</td>\n",
       "    </tr>\n",
       "    <tr>\n",
       "      <th>5</th>\n",
       "      <td>System</td>\n",
       "      <td>3131</td>\n",
       "      <td>0.053</td>\n",
       "      <td>0.695</td>\n",
       "      <td>0.252</td>\n",
       "      <td>2061</td>\n",
       "      <td>109</td>\n",
       "      <td>1433</td>\n",
       "      <td>520</td>\n",
       "    </tr>\n",
       "  </tbody>\n",
       "</table>\n",
       "</div>"
      ],
      "text/plain": [
       "               Element  Area      a      g      v    Vp   Va    Vg   Vv\n",
       "0                 Roof  1100  0.899      0  0.101   724    0     0   73\n",
       "1        Infilt. swale   129  0.000  0.947  0.055    85    0   697   40\n",
       "2     Paver stone-grid  1500  0.044  0.704  0.252   987   43   695  249\n",
       "3  Garden / green area   310  0.200    0.2  0.600   204   41    41  122\n",
       "4           Green roof    92  0.413      0  0.587    61   25     0   36\n",
       "5               System  3131  0.053  0.695  0.252  2061  109  1433  520"
      ]
     },
     "execution_count": 16,
     "metadata": {},
     "output_type": "execute_result"
    }
   ],
   "source": [
    "watbal(swale, parking_lot, garden, green_roof)"
   ]
  },
  {
   "cell_type": "markdown",
   "metadata": {},
   "source": [
    "The water balance of the pilot area changes considerably. The surface runoff is around 5%, while the groundwater recharge represents 71%, and only 24% of the losses correspond to evapotranspiration. At first glance, the result seems adequate. However, the current configuration may produce an excessive (non-natural) groundwater recharge rate. The measures to be applied should increase evapotranspiration."
   ]
  },
  {
   "cell_type": "markdown",
   "metadata": {},
   "source": [
    "# 3 References\n",
    "\n",
    "* DWA-A 102, 2017. Niederschlagsbedingte Siedlungsabﬂüsse – Grundsätze und Anforderungen\n",
    "zum Umgang mit Regenwasser (Entwurf). DWA-Arbeitsblatt 100. Hennef: Deutsche\n",
    "Vereinigung für Wasserwirtschaft, Abwasser und Abfall e. V. (in German)."
   ]
  }
 ],
 "metadata": {
  "kernelspec": {
   "display_name": "Python 3 (ipykernel)",
   "language": "python",
   "name": "python3"
  },
  "language_info": {
   "codemirror_mode": {
    "name": "ipython",
    "version": 3
   },
   "file_extension": ".py",
   "mimetype": "text/x-python",
   "name": "python",
   "nbconvert_exporter": "python",
   "pygments_lexer": "ipython3",
   "version": "3.11.4"
  }
 },
 "nbformat": 4,
 "nbformat_minor": 4
}
